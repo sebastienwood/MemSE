{
 "cells": [
  {
   "cell_type": "code",
   "execution_count": 1,
   "metadata": {},
   "outputs": [
    {
     "name": "stderr",
     "output_type": "stream",
     "text": [
      "/home/sebwood/projects/def-franlp/sebwood/.venv/lib/python3.10/site-packages/tqdm/auto.py:21: TqdmWarning: IProgress not found. Please update jupyter and ipywidgets. See https://ipywidgets.readthedocs.io/en/stable/user_install.html\n",
      "  from .autonotebook import tqdm as notebook_tqdm\n"
     ]
    },
    {
     "name": "stdout",
     "output_type": "stream",
     "text": [
      "OFAxMemSE initialized with  62  crossbars\n",
      "{0: [3, 4, 5, 6], 1: [7, 8, 9], 2: [10, 11, 12], 3: [13, 14, 15], 4: [16, 17, 18, 19], 5: [20, 21, 22], 6: [23, 24, 25], 7: [26, 27, 28], 8: [29, 30, 31, 32], 9: [33, 34, 35], 10: [36, 37, 38], 11: [39, 40, 41], 12: [42, 43, 44], 13: [45, 46, 47], 14: [48, 49, 50, 51], 15: [52, 53, 54], 16: [55, 56, 57], 17: [58, 59, 60]}\n",
      "[[0, 1, 2, 3], [4, 5, 6, 7], [8, 9, 10, 11, 12, 13], [14, 15, 16, 17]]\n"
     ]
    }
   ],
   "source": [
    "import torch\n",
    "import numpy as np\n",
    "from MemSE import ROOT\n",
    "from MemSE.nas import AccuracyDataset, ResNetArchEncoder, AccuracyPredictor, EvolutionFinder\n",
    "from ofa.model_zoo import ofa_net\n",
    "from MemSE.nn import MemSE, OFAxMemSE\n",
    "\n",
    "torch.backends.cudnn.benchmark = True\n",
    "\n",
    "ofa = ofa_net('ofa_resnet50', pretrained=False)\n",
    "ofa.set_max_net()\n",
    "default_gmax = MemSE(ofa.get_active_subnet()).quanter.Wmax\n",
    "memse = OFAxMemSE(ofa)"
   ]
  },
  {
   "cell_type": "code",
   "execution_count": 2,
   "metadata": {},
   "outputs": [
    {
     "name": "stdout",
     "output_type": "stream",
     "text": [
      "tensor([1., 1., 1., 1., 1., 1., 1., 1., 1., 1., 1., 1., 1., 1., 1., 1., 1., 1.,\n",
      "        1., 1., 1., 1., 1., 1., 1., 1., 1., 1., 1., 1., 1., 1., 1., 1., 1., 1.,\n",
      "        1., 1., 1., 1., 1., 1., 1., 1., 1., 1., 1., 1., 1., 1., 1., 1., 1., 1.,\n",
      "        1., 1., 1., 1., 1., 1., 1., 1.])\n",
      "tensor([1., 0., 1., 1., 1., 1., 1., 1., 1., 1., 0., 0., 0., 0., 0., 0., 1., 1.,\n",
      "        1., 1., 1., 1., 1., 0., 0., 0., 0., 0., 0., 1., 1., 1., 1., 1., 1., 1.,\n",
      "        1., 1., 1., 1., 1., 1., 0., 0., 0., 0., 0., 0., 1., 1., 1., 1., 1., 1.,\n",
      "        1., 0., 0., 0., 0., 0., 0., 1.])\n"
     ]
    }
   ],
   "source": [
    "print(memse.gmax_mask())\n",
    "memse.sample_active_subnet(arch={'d': 0}, skip_adaptation=True)\n",
    "print(memse.gmax_mask())"
   ]
  }
 ],
 "metadata": {
  "kernelspec": {
   "display_name": ".venv",
   "language": "python",
   "name": "python3"
  },
  "language_info": {
   "codemirror_mode": {
    "name": "ipython",
    "version": 3
   },
   "file_extension": ".py",
   "mimetype": "text/x-python",
   "name": "python",
   "nbconvert_exporter": "python",
   "pygments_lexer": "ipython3",
   "version": "3.10.2"
  },
  "orig_nbformat": 4
 },
 "nbformat": 4,
 "nbformat_minor": 2
}
