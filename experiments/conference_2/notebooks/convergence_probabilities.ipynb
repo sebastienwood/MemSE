{
 "cells": [
  {
   "cell_type": "code",
   "execution_count": null,
   "metadata": {},
   "outputs": [],
   "source": [
    "from MemSE import ROOT\n",
    "import torch\n",
    "\n",
    "torch.backends.cudnn.benchmark = True\n",
    "device = 'cuda:0' if torch.cuda.is_available() else 'cpu'\n",
    "\n",
    "acc_convergence = ROOT / 'experiments/conference_2/ofa_early_tests_acc_convergence.npy'"
   ]
  }
 ],
 "metadata": {
  "language_info": {
   "name": "python"
  }
 },
 "nbformat": 4,
 "nbformat_minor": 2
}
